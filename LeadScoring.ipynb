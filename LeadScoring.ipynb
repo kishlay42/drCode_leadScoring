{
  "nbformat": 4,
  "nbformat_minor": 0,
  "metadata": {
    "colab": {
      "provenance": [],
      "authorship_tag": "ABX9TyO9xw27ZTWD1BH2/pDfx16v",
      "include_colab_link": true
    },
    "kernelspec": {
      "name": "python3",
      "display_name": "Python 3"
    },
    "language_info": {
      "name": "python"
    }
  },
  "cells": [
    {
      "cell_type": "markdown",
      "metadata": {
        "id": "view-in-github",
        "colab_type": "text"
      },
      "source": [
        "<a href=\"https://colab.research.google.com/github/kishlay42/drCode_leadScoring/blob/main/LeadScoring.ipynb\" target=\"_parent\"><img src=\"https://colab.research.google.com/assets/colab-badge.svg\" alt=\"Open In Colab\"/></a>"
      ]
    },
    {
      "cell_type": "code",
      "source": [
        "pip install langchain_mistralai"
      ],
      "metadata": {
        "id": "yuKLDs4vJCwU"
      },
      "execution_count": null,
      "outputs": []
    },
    {
      "cell_type": "code",
      "source": [
        "import os\n",
        "os.environ[\"MISTRAL_API_KEY\"] = \"6R8cMW2AsFM1bIEL2m4QflDp6PMaNQhn\"  # Replace with your actual key\n"
      ],
      "metadata": {
        "id": "ZWMBnLGTOHWx"
      },
      "execution_count": null,
      "outputs": []
    },
    {
      "cell_type": "markdown",
      "source": [
        "**Working Code**"
      ],
      "metadata": {
        "id": "kF2sdv8Y69WE"
      }
    },
    {
      "cell_type": "code",
      "source": [
        "import os\n",
        "import time\n",
        "import pandas as pd\n",
        "from textblob import TextBlob  # Sentiment analysis library\n",
        "from langchain.prompts import ChatPromptTemplate\n",
        "from langchain_mistralai import ChatMistralAI\n",
        "\n",
        "# Load CSV file\n",
        "file_path = \"/content/lead_scoring_dataSmall.csv\"\n",
        "df = pd.read_csv(file_path)\n",
        "\n",
        "# Retrieve API key from environment variables\n",
        "MISTRAL_API_KEY = os.getenv(\"MISTRAL_API_KEY\")\n",
        "\n",
        "# Initialize the model\n",
        "model = ChatMistralAI(model=\"mistral-large-latest\", mistral_api_key=MISTRAL_API_KEY,temperature=0)\n",
        "\n",
        "# Function to analyze sentiment\n",
        "def get_sentiment_score(text):\n",
        "    if pd.isna(text) or not isinstance(text, str):  # Handle missing or non-string data\n",
        "        return 50  # Neutral score (50 on a scale of 0-100)\n",
        "\n",
        "    sentiment = TextBlob(text).sentiment.polarity  # Polarity: -1 (negative) to +1 (positive)\n",
        "    return round((sentiment + 1) * 50, 2)  # Convert to 0-100 scale\n",
        "\n",
        "# Function to categorize lead score\n",
        "def categorize_lead(score):\n",
        "    if score is None:\n",
        "        return \"Unknown\"\n",
        "    elif score >= 80:\n",
        "        return \"High\"\n",
        "    elif score >= 50:\n",
        "        return \"Medium\"\n",
        "    else:\n",
        "        return \"Low\"\n",
        "\n",
        "# Function to get lead score\n",
        "def get_lead_score(customer_data):\n",
        "    print(\"Calculating lead score...\")  # Added message to indicate calculation start\n",
        "\n",
        "    # Compute sentiment score and add it to customer data\n",
        "    customer_data[\"Sentiment Score\"] = get_sentiment_score(customer_data.get(\"Enquiry (Email, Whatsapp)\", \"\"))\n",
        "\n",
        "    prompt = ChatPromptTemplate.from_template(\n",
        "        \"\"\"\n",
        "        You are a lead scoring assistant. Analyze the following customer data and assign a lead score between 0 and 100.\n",
        "\n",
        "        Customer Details:\n",
        "        - Email address: {Email address}\n",
        "        - Name: {Name}\n",
        "        - Phone Number: {Phone Number}\n",
        "        - Gender: {Gender}\n",
        "        - Age: {Age}\n",
        "        - City: {City}\n",
        "        - Membership: {Membership}\n",
        "        - Frequency of Visit: {Frequency of Visit}\n",
        "        - Number of Items in Cart: {Number of Items in Cart}\n",
        "        - Number of Orders: {Number of Orders}\n",
        "        - Total spend: {Total spend}\n",
        "        - Average Rating: {Average Rating}\n",
        "        - Engaged with Emails?: {Engaged with Emails?}\n",
        "        - Used discount codes?: {Used discount codes?}\n",
        "        - Day since last purchase: {Day since last purchase}\n",
        "        - Enquiry (Email, Whatsapp): {Enquiry (Email, Whatsapp)}\n",
        "        - Sentiment Score (0-100): {Sentiment Score}\n",
        "\n",
        "        Provide only a numerical score (0-100) as output.\n",
        "        \"\"\"\n",
        "    )\n",
        "\n",
        "    response = model.invoke(prompt.format(**customer_data))\n",
        "\n",
        "    try:\n",
        "        return float(response.content.strip())\n",
        "    except:\n",
        "        return None\n",
        "\n",
        "# Update lead scores with delay to prevent rate limit errors\n",
        "lead_scores = []\n",
        "lead_categories = []  # New list for lead categories\n",
        "\n",
        "for index, row in df.iterrows():\n",
        "    lead_score = get_lead_score(row.to_dict())\n",
        "    lead_scores.append(lead_score)\n",
        "    lead_categories.append(categorize_lead(lead_score))  # Assign category\n",
        "    time.sleep(2)  # Adding a delay of 2 seconds between requests\n",
        "\n",
        "df[\"lead_score\"] = lead_scores\n",
        "df[\"lead_category\"] = lead_categories  # Add lead category column\n",
        "\n",
        "# Save updated CSV\n",
        "df.to_csv(\"/content/Updated_lead_scoring_data.csv\", index=False)\n",
        "\n",
        "print(\"Lead scores and categories updated and saved successfully.\")\n"
      ],
      "metadata": {
        "id": "uY23BChg7EsQ"
      },
      "execution_count": null,
      "outputs": []
    },
    {
      "cell_type": "markdown",
      "source": [
        "**Latest Code**"
      ],
      "metadata": {
        "id": "L32ZOBCEz28-"
      }
    },
    {
      "cell_type": "code",
      "source": [
        "import os\n",
        "import time\n",
        "import pandas as pd\n",
        "from textblob import TextBlob  # Sentiment analysis library\n",
        "from langchain.prompts import ChatPromptTemplate\n",
        "from langchain_mistralai import ChatMistralAI\n",
        "\n",
        "# Load CSV file\n",
        "file_path = \"/content/lead_scoring_dataSmall.csv\"\n",
        "df = pd.read_csv(file_path)\n",
        "\n",
        "# Retrieve API key from environment variables\n",
        "MISTRAL_API_KEY = os.getenv(\"MISTRAL_API_KEY\")\n",
        "\n",
        "# Initialize the model\n",
        "model = ChatMistralAI(model=\"mistral-large-latest\", mistral_api_key=MISTRAL_API_KEY,temperature=0)\n",
        "\n",
        "# Function to analyze sentiment\n",
        "def get_sentiment_score(text):\n",
        "    if pd.isna(text) or not isinstance(text, str):  # Handle missing or non-string data\n",
        "        return 50  # Neutral score (50 on a scale of 0-100)\n",
        "\n",
        "    sentiment = TextBlob(text).sentiment.polarity  # Polarity: -1 (negative) to +1 (positive)\n",
        "    return round((sentiment + 1) * 50, 2)  # Convert to 0-100 scale\n",
        "\n",
        "# Function to categorize lead score\n",
        "def categorize_lead(score):\n",
        "    if score is None:\n",
        "        return \"Unknown\"\n",
        "    elif score >= 80:\n",
        "        return \"High\"\n",
        "    elif score >= 50:\n",
        "        return \"Medium\"\n",
        "    else:\n",
        "        return \"Low\"\n",
        "\n",
        "# Function to get lead score\n",
        "def get_lead_score(customer_data):\n",
        "    print(\"Calculating lead score...\")  # Added message to indicate calculation start\n",
        "\n",
        "    # Compute sentiment score and add it to customer data\n",
        "    customer_data[\"Sentiment Score\"] = get_sentiment_score(customer_data.get(\"Enquiry (Email, Whatsapp)\", \"\"))\n",
        "\n",
        "    prompt = ChatPromptTemplate.from_template(\n",
        "        \"\"\"\n",
        "        You are a lead scoring assistant. Analyze the following customer data and assign a lead score between 0 and 100.\n",
        "\n",
        "        Customer Details:\n",
        "        - Email address: {Email address}\n",
        "        - Name: {Name}\n",
        "        - Phone Number: {Phone Number}\n",
        "        - Gender: {Gender}\n",
        "        - Age: {Age}\n",
        "        - City: {City}\n",
        "        - Membership: {Membership}\n",
        "        - Frequency of Visit: {Frequency of Visit}\n",
        "        - Number of Items in Cart: {Number of Items in Cart}\n",
        "        - Number of Orders: {Number of Orders}\n",
        "        - Total spend: {Total spend}\n",
        "        - Average Rating: {Average Rating}\n",
        "        - Engaged with Emails?: {Engaged with Emails?}\n",
        "        - Used discount codes?: {Used discount codes?}\n",
        "        - Day since last purchase: {Day since last purchase}\n",
        "        - Enquiry (Email, Whatsapp): {Enquiry (Email, Whatsapp)}\n",
        "        - Sentiment Score (0-100): {Sentiment Score}\n",
        "\n",
        "        Provide only a numerical score (0-100) as output.\n",
        "        \"\"\"\n",
        "    )\n",
        "\n",
        "    response = model.invoke(prompt.format(**customer_data))\n",
        "\n",
        "    try:\n",
        "        return float(response.content.strip())\n",
        "    except:\n",
        "        return None\n",
        "\n",
        "# Update lead scores with delay to prevent rate limit errors\n",
        "lead_scores = []\n",
        "lead_categories = []  # New list for lead categories\n",
        "\n",
        "for index, row in df.iterrows():\n",
        "    lead_score = get_lead_score(row.to_dict())\n",
        "    lead_scores.append(lead_score)\n",
        "    lead_categories.append(categorize_lead(lead_score))  # Assign category\n",
        "    time.sleep(2)  # Adding a delay of 2 seconds between requests\n",
        "\n",
        "df[\"lead_score\"] = lead_scores\n",
        "df[\"lead_category\"] = lead_categories  # Add lead category column\n",
        "\n",
        "# Save updated CSV\n",
        "df.to_csv(\"/content/Updated_lead_scoring_data.csv\", index=False)\n",
        "\n",
        "print(\"Lead scores and categories updated and saved successfully.\")\n"
      ],
      "metadata": {
        "colab": {
          "base_uri": "https://localhost:8080/"
        },
        "id": "BXVAj8pHr1rd",
        "outputId": "d76eebc0-5b68-4385-ad22-c77fa21ac86b"
      },
      "execution_count": null,
      "outputs": [
        {
          "output_type": "stream",
          "name": "stdout",
          "text": [
            "Calculating lead score...\n",
            "Calculating lead score...\n",
            "Calculating lead score...\n",
            "Calculating lead score...\n",
            "Calculating lead score...\n",
            "Calculating lead score...\n",
            "Calculating lead score...\n",
            "Calculating lead score...\n",
            "Calculating lead score...\n",
            "Calculating lead score...\n",
            "Lead scores, confidence scores, and categories updated and saved successfully.\n"
          ]
        }
      ]
    },
    {
      "cell_type": "markdown",
      "source": [
        "**Previous Versions**"
      ],
      "metadata": {
        "id": "B_6CU4Yzz8SH"
      }
    },
    {
      "source": [
        "import os\n",
        "import time\n",
        "import pandas as pd\n",
        "from langchain.prompts import ChatPromptTemplate\n",
        "from langchain_mistralai import ChatMistralAI\n",
        "\n",
        "# Load CSV file\n",
        "file_path = \"/content/lead_scoring_dataSmall1.csv\"\n",
        "df = pd.read_csv(file_path)\n",
        "\n",
        "# Retrieve API key from environment variables\n",
        "MISTRAL_API_KEY = os.getenv(\"MISTRAL_API_KEY\")\n",
        "\n",
        "# Initialize the model\n",
        "model = ChatMistralAI(model=\"mistral-large-latest\", mistral_api_key=MISTRAL_API_KEY)\n",
        "\n",
        "# Function to get lead score\n",
        "def get_lead_score(customer_data):\n",
        "    prompt = ChatPromptTemplate.from_template(\n",
        "        \"\"\"\n",
        "        You are a lead scoring assistant. Analyze the following customer data and assign a lead score between 0 and 100.\n",
        "\n",
        "        Customer Details:\n",
        "        - Email address: {Email address}\n",
        "        - Name: {Name}\n",
        "        - Phone Number: {Phone Number}\n",
        "        - Gender: {Gender}\n",
        "        - Age: {Age}\n",
        "        - City: {City}\n",
        "        - Membership: {Membership}\n",
        "        - Frequency of Visit: {Frequency of Visit}\n",
        "        - Number of Items in Cart: {Number of Items in Cart}\n",
        "        - Number of Orders: {Number of Orders}\n",
        "        - Total spend: {Total spend}\n",
        "        - Average Rating: {Average Rating}\n",
        "        - Engaged with Emails?: {Engaged with Emails?}\n",
        "        - Used discount codes?: {Used discount codes?}\n",
        "        - Day since last purchase: {Day since last purchase}\n",
        "        - Enquiry (Email, Whatsapp): {Enquiry (Email, Whatsapp)}\n",
        "\n",
        "\n",
        "\n",
        "        Provide only a numerical score (0-100) as output.\n",
        "        \"\"\"\n",
        "    )\n",
        "\n",
        "    response = model.invoke(prompt.format(**customer_data))\n",
        "\n",
        "    try:\n",
        "        return float(response.content.strip())\n",
        "    except:\n",
        "        return None\n",
        "\n",
        "# Update lead scores with delay to prevent rate limit errors\n",
        "lead_scores = []\n",
        "for index, row in df.iterrows():\n",
        "    lead_score = get_lead_score(row.to_dict())\n",
        "    lead_scores.append(lead_score)\n",
        "    time.sleep(2)  # Adding a delay of 2 seconds between requests\n",
        "\n",
        "df[\"lead_score\"] = lead_scores\n",
        "\n",
        "# Save updated CSV\n",
        "df.to_csv(\"/content/Updated_lead_scoring_data.csv\", index=False)\n",
        "\n",
        "print(\"Lead scores updated and saved successfully.\")\n"
      ],
      "cell_type": "code",
      "metadata": {
        "colab": {
          "base_uri": "https://localhost:8080/"
        },
        "id": "Fqzwr14Pdv9G",
        "outputId": "7dab3e30-0965-4be8-b6f5-0add59cfcbf9"
      },
      "execution_count": null,
      "outputs": [
        {
          "output_type": "stream",
          "name": "stdout",
          "text": [
            "Lead scores updated and saved successfully.\n"
          ]
        }
      ]
    },
    {
      "cell_type": "code",
      "execution_count": null,
      "metadata": {
        "colab": {
          "base_uri": "https://localhost:8080/"
        },
        "id": "Rw1XGBiBI2nD",
        "outputId": "e326253d-cc23-4a39-f1e2-22ebf2532198"
      },
      "outputs": [
        {
          "output_type": "stream",
          "name": "stdout",
          "text": [
            "Enter lead details: high purchase shopper\n",
            "90\n"
          ]
        }
      ],
      "source": [
        "import os\n",
        "from langchain.prompts import ChatPromptTemplate\n",
        "from langchain_mistralai import ChatMistralAI\n",
        "\n",
        "# Retrieve API key from environment variables\n",
        "MISTRAL_API_KEY = os.getenv(\"MISTRAL_API_KEY\")\n",
        "\n",
        "# Initialize the model\n",
        "model = ChatMistralAI(model=\"mistral-large-latest\", mistral_api_key=MISTRAL_API_KEY)\n",
        "\n",
        "# Get user input\n",
        "enquiry = input(\"Enter lead details: \")\n",
        "\n",
        "# Define messages\n",
        "messages = [\n",
        "    (\"system\", \"You are the best lead scorer in the world. Based on the text, analyze the value of the lead. \"\n",
        "               \"Give a value between 0 to 100 based on the quality of the lead. 0 being the worst and 100 being the best. \"\n",
        "               \"Your output must just be the number and nothing else.\"),\n",
        "    (\"human\", f\"Text: {enquiry}\"),\n",
        "]\n",
        "\n",
        "# Create prompt template and invoke it\n",
        "prompt_template = ChatPromptTemplate.from_messages(messages)\n",
        "prompt = prompt_template.invoke({\"enquiry\": enquiry})\n",
        "\n",
        "# Get the model's response\n",
        "print(model.invoke(prompt).content)\n"
      ]
    }
  ]
}